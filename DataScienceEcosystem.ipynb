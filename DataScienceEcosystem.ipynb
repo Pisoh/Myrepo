{
 "cells": [
  {
   "cell_type": "markdown",
   "id": "edfa422f-1b4d-4971-984f-6a51bb79e422",
   "metadata": {},
   "source": [
    "# Data Science Tools and Ecosystem"
   ]
  },
  {
   "cell_type": "markdown",
   "id": "9b7a809d-8cb6-4c58-8934-a4d9c37c1a39",
   "metadata": {},
   "source": [
    "In this notebook, Data Science Tools and Ecosystem are summarized"
   ]
  },
  {
   "cell_type": "markdown",
   "id": "aadc107a-b4bb-4600-8dd9-e61737b2393c",
   "metadata": {},
   "source": [
    "**Objectives:**\n",
    "* List popular languages for Data Science\n",
    "* Data Science Tools\n",
    "* Some commonly used libraries by Data Scientists"
   ]
  },
  {
   "cell_type": "markdown",
   "id": "0ce01bf0-9eeb-4a69-a501-78cda20a7750",
   "metadata": {},
   "source": [
    "Some of the popular languages that Data Scientists use are:\n",
    "\n",
    "1. Python\n",
    "2. Java\n",
    "3. R"
   ]
  },
  {
   "cell_type": "markdown",
   "id": "6e51c9de-11c9-4233-a72f-04b5ffd9d2f1",
   "metadata": {},
   "source": [
    "Some of the commonly used libraries used by data Scientists include:\n",
    "1. Pandas\n",
    "2. Numpy\n",
    "3. Matplotlib"
   ]
  },
  {
   "cell_type": "markdown",
   "id": "9c2591cd-7030-4938-980c-7f7c3d9843c8",
   "metadata": {},
   "source": [
    "|Data Science Tools|\n",
    "|-------------------|\n",
    "|Jupyter Notebook|\n",
    "|RStudio|\n",
    "|Visual Studio Code|"
   ]
  },
  {
   "cell_type": "markdown",
   "id": "ab096cdb-12a4-48d3-be54-c4cd0a1ad0f3",
   "metadata": {},
   "source": [
    "### Below are a few examples of evaluating arithmetic expressions in python"
   ]
  },
  {
   "cell_type": "code",
   "execution_count": 2,
   "id": "26d38ac4-5caf-4b17-84ca-5d604b8124d9",
   "metadata": {},
   "outputs": [
    {
     "data": {
      "text/plain": [
       "17"
      ]
     },
     "execution_count": 2,
     "metadata": {},
     "output_type": "execute_result"
    }
   ],
   "source": [
    "#This is a simple arithmetic expression to multiply then add integers\n",
    "(3*4)+5"
   ]
  },
  {
   "cell_type": "code",
   "execution_count": 3,
   "id": "231e9a04-ec6c-4e7a-998a-2d069198e3ac",
   "metadata": {},
   "outputs": [
    {
     "data": {
      "text/plain": [
       "3.3333333333333335"
      ]
     },
     "execution_count": 3,
     "metadata": {},
     "output_type": "execute_result"
    }
   ],
   "source": [
    "#This will convert 200 minutes to hours by dividing by 60\n",
    "200/60"
   ]
  },
  {
   "cell_type": "markdown",
   "id": "f04d92b0-b172-4470-adc7-1418b8514556",
   "metadata": {},
   "source": [
    "## Author\n",
    "Buma Pisoh"
   ]
  },
  {
   "cell_type": "code",
   "execution_count": null,
   "id": "54227bf1-65b4-4a2a-9132-5f7efb6ba196",
   "metadata": {},
   "outputs": [],
   "source": []
  }
 ],
 "metadata": {
  "kernelspec": {
   "display_name": "Python 3 (ipykernel)",
   "language": "python",
   "name": "python3"
  },
  "language_info": {
   "codemirror_mode": {
    "name": "ipython",
    "version": 3
   },
   "file_extension": ".py",
   "mimetype": "text/x-python",
   "name": "python",
   "nbconvert_exporter": "python",
   "pygments_lexer": "ipython3",
   "version": "3.11.9"
  }
 },
 "nbformat": 4,
 "nbformat_minor": 5
}
